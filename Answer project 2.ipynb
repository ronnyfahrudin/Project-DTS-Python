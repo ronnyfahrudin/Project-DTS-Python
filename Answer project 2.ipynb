{
 "cells": [
  {
   "cell_type": "markdown",
   "metadata": {
    "colab_type": "text",
    "id": "lA-LL0O8KyRh"
   },
   "source": [
    "\n",
    "\n",
    "---\n",
    "\n",
    "\n",
    "# Sebelum mengerjakan dibaca dengan seksama teorinya. **Rumus matematis untuk semua soal sudah ada di lembar ini**\n",
    "\n",
    "## Deadline (06.00 AM WIB 15/06/2020)\n",
    "\n",
    "## Jadwal update github: Rabu, Sabtu, Senin\n",
    "\n",
    "## Untuk yang tidak mengerjakan di colab:\n",
    "* Install matplotlib, atau\n",
    "* Kode visualilasasi dihiraukan saja \n",
    "\n",
    "\n",
    "\n",
    "\n",
    "---\n",
    "\n"
   ]
  },
  {
   "cell_type": "markdown",
   "metadata": {
    "colab_type": "text",
    "id": "6Vfcl3l1wj5X"
   },
   "source": [
    "# <center>Estimasi nilai $\\pi$ dengan Monte Carlo</center>\n",
    "Dalam project kali ini kita akan memnbuat suatu program simulasi untuk mengestimasi nilai $\\pi$ dengan menggunakan metode Monte Carlo. \n",
    "\n",
    "Monte Carlo merupakan sebuah algoritme matematis yang berdasarkan simulasi dari nilai-nilai random yang diulang-ulang berkali-kali untuk memprediksi distribusi suatu fenomena yang banyak digunakan untuk analisis resiko dan pengambilan keputusan.\n",
    "\n",
    "## Project Items:\n",
    "1. Estimasi luas lingkaran denga MC.\n",
    "2. Estimasi nilai $\\pi$ dengan MC.\n",
    "3. Menghitung error relative dari estimasi $\\pi$ dengan MC."
   ]
  },
  {
   "cell_type": "markdown",
   "metadata": {
    "colab_type": "text",
    "id": "BqVNRiWzzdk1"
   },
   "source": [
    "## Fungsi lingkaran:\n",
    "$$L((x_0,y_0),r)\t\\equiv (x-x_0)^2+(y-y_0)^2=r^2$$\n",
    "merupakan suatu lingkaran yang berpusat di $(x_0,y_0)$ (cth: _titik $\\times$ pada gambar di bawah_) dengan jari-jari $r$. Titik-titik $(x,y)$ yang memenuhi persamaan tersebut merupakan suatu titik yang berada digaris lingkaran $L((x_0,y_0),r)\t$.\n",
    "\n",
    "\n",
    "**note: jari-jari, $r$, merupakan jarak dari titik pusat lingkaran  $(x_0,y_0)$ ke tepi/garis lingkaran, atau setengah dari diameter lingkaran.** \n",
    "\n",
    "Penjelasan mudahnya:\n",
    "*  Jika suatu titik $(x,y)$ sedemikian hingga $(x-x_0)^2+(y-y_0)^2 < r^2$, maka titik tersebut berada di **DALAM** lingkaran $L((x_0,y_0),r)\t$ -- \n",
    "(cth: titik $\\triangle$).\n",
    "*  Jika suatu titik $(x,y)$ sedemikian hingga $(x-x_0)^2+(y-y_0)^2 > r^2$, maka titik tersebut berada di **LUAR** lingkaran $L((x_0,y_0),r)\t$ -- (cth: titik $+$).\n",
    "*  Jika suatu titik $(x,y)$ sedemikian hingga $(x-x_0)^2+(y-y_0)^2 = r^2$, maka titik tersebut berada **TEPAT DI GARIS** lingkaran $L((x_0,y_0),r)\t$ -- (cth: titik $\\bigcirc$).\n",
    "\n",
    "![alt text](https://github.com/sykrn/py-dts/blob/master/asets/linkaran.png?raw=true)\n",
    "\n"
   ]
  },
  {
   "cell_type": "markdown",
   "metadata": {
    "colab_type": "text",
    "id": "Nd-sDRm3CC_i"
   },
   "source": [
    "\n",
    "\n",
    "---\n",
    "\n",
    "\n",
    "### 1. Buatlah sebuah fungsi `isPointInCircle` dengan posisional argument `x,y,r` dan keyword argument `center` dengan default value sebuah tupple dua nilai `(0,0)`. Untuk menentukan apakah titik `(x,y)` berada di dalam atau di luar lingkaran $L(\\rm{center},r)$. Keluaran fungsi `isPointInCircle` merupakan suatu nilai boolean, `True` Jika titik `(x,y)` berada di dalam lingkaran dan `False` Jika berada di luar.\n",
    "**Note: titik yang berada tepat di lingkaran dikategorikan sebagai dalam, maka `True`.**"
   ]
  },
  {
   "cell_type": "markdown",
   "metadata": {},
   "source": [
    "# Urutan Penyelesaian:\n",
    "1. kita membuat fungsi dengan if,elif, else(conditional)\n",
    "2. jika center di index 0 dikurangi x jumlahnya berapa lalu hasilnya dipangkatkan 2. "
   ]
  },
  {
   "cell_type": "code",
   "execution_count": 3,
   "metadata": {
    "colab": {},
    "colab_type": "code",
    "id": "7Cr4z36_PyJq"
   },
   "outputs": [],
   "source": [
    "#Graded\n",
    "\n",
    "def isPointInCircle(x,y,r,center=(0,0)):\n",
    "    if ((center[0]-x)**2) + ((center[1]-y)**2) <= r**2:\n",
    "        return True\n",
    "    else:\n",
    "        return False"
   ]
  },
  {
   "cell_type": "code",
   "execution_count": 4,
   "metadata": {
    "colab": {},
    "colab_type": "code",
    "id": "vzxpk2ejADGn"
   },
   "outputs": [
    {
     "name": "stdout",
     "output_type": "stream",
     "text": [
      "False True True False\n"
     ]
    }
   ],
   "source": [
    "#CEK OUTPUT KODE ANDA\n",
    "print(isPointInCircle(1,1,1,center=(0,0)),isPointInCircle(1,0,1,center=(0,0)),\n",
    "      isPointInCircle(1,1,1,center=(1,0)),isPointInCircle(0,0,1,center=(1,1)))"
   ]
  },
  {
   "cell_type": "markdown",
   "metadata": {
    "colab_type": "text",
    "id": "9d-hkB-DACO6"
   },
   "source": [
    "### Expected output\n",
    "```\n",
    "False True True False\n",
    "```\n",
    "\n"
   ]
  },
  {
   "cell_type": "markdown",
   "metadata": {
    "colab_type": "text",
    "id": "9UIzNJ0s8kKV"
   },
   "source": [
    "\n",
    "\n",
    "---\n",
    "\n",
    "\n",
    "## 2. `generateRandomSquarePoints` dengan dua positional argumen `n` dan `length`, dan keyword argument `center` default: tupple`(0,0)`. Fungsi ini akan mengeluarkan suatu list dengan jumlah `n` titik random `[x,y]` yang berada di dalam suatu kotak persegi dengan panjang `length` dan titik tengah `center`. Keluaran fungsi merupakan list dari `n` titik random `[x,y]`, cth: `[[x1,y1],...,[xn,yn]]`.\n",
    "\n",
    "**hint:**\n",
    "\n",
    "1. Jarak titik tengah `center` ke tepi persegi sama dengan `length/2`.\n",
    "2. Untuk menghasilkan nilai random, gunakan `random.uniform`, penjelasan [random.uniform](https://docs.python.org/3/library/random.html#random.uniform). Untuk menentukan nilai `a` dan `b` dari fungsi random.uniform, coba perhatikan gambar di cell bawah dengan `center=(0,0)`. Note: harus fleksible ketika titik `center` berubah.\n",
    "3. Gunakan list comprehension untuk men-generate n titik x,y tersebut.\n",
    "4. Untuk menyelesaikan hanya butuh ubah satu baris kode, ganti `None` value, dengan kode anda.\n"
   ]
  },
  {
   "cell_type": "code",
   "execution_count": 5,
   "metadata": {
    "colab": {},
    "colab_type": "code",
    "id": "6-t8X3M-c_c3"
   },
   "outputs": [],
   "source": [
    "#Graded\n",
    "import random\n",
    "\n",
    "\n",
    "def generateRandomSquarePoints(n,length,center=(0,0)):\n",
    "    minx = center[0]-length/2\n",
    "    miny = center[1]-length/2\n",
    "    maxx = minx+length\n",
    "    maxy = miny+length\n",
    "  # Gunakan list comprehension dengan variable minx, miny, length, dan n\n",
    "    points = [[random.uniform(minx,maxx),random.uniform(miny, maxy)] for i in range(n)]\n",
    "    return points"
   ]
  },
  {
   "cell_type": "code",
   "execution_count": 6,
   "metadata": {
    "colab": {},
    "colab_type": "code",
    "id": "LxZ8ca0ihV-P"
   },
   "outputs": [
    {
     "name": "stdout",
     "output_type": "stream",
     "text": [
      "[[-0.18985243068066737, 0.22983174826012864], [0.3988382879679935, 0.18398393191544127], [-0.027857284547286643, -0.3992987919316342], [-0.06582816454621632, 0.1108869734438016], [0.4130110532378982, 0.4666063677707588]]\n"
     ]
    }
   ],
   "source": [
    "#CEK OUTPUT KODE ANDA\n",
    "random.seed(0)\n",
    "\n",
    "# generate 100 point di dalam persegi dengan panjang sisi 1 dan berpusat di (0,0)\n",
    "points = generateRandomSquarePoints(100,1)\n",
    "print(points[10:15])\n",
    "\n"
   ]
  },
  {
   "cell_type": "markdown",
   "metadata": {
    "colab_type": "text",
    "id": "_KD6pskbg0ZT"
   },
   "source": [
    "### Expected output:\n",
    "```\n",
    "[[-0.18985243068066737, 0.22983174826012864],\n",
    " [0.3988382879679935, 0.18398393191544127],\n",
    " [-0.027857284547286643, -0.3992987919316342],\n",
    " [-0.06582816454621632, 0.1108869734438016],\n",
    " [0.4130110532378982, 0.4666063677707588]]\n",
    " ```"
   ]
  },
  {
   "cell_type": "code",
   "execution_count": 35,
   "metadata": {
    "colab": {},
    "colab_type": "code",
    "id": "fxlJL4n3HQUO"
   },
   "outputs": [
    {
     "data": {
      "image/png": "[encoded data removed]",
      "text/plain": [
       "<Figure size 648x648 with 1 Axes>"
      ]
     },
     "metadata": {
      "needs_background": "light"
     },
     "output_type": "display_data"
    }
   ],
   "source": [
    "#CEK OUTPUT KODE ANDA VISUALISASI\n",
    "# Mari kita Visualisasikan \n",
    "# Jika sama dengan gambar di bawah ini maka keluaran sesuai harapan\n",
    "import matplotlib.pyplot as plt\n",
    "x,y = zip(*points)\n",
    "\n",
    "# persegi dengan panjang sisi 1 dan berpusat di (0,0)\n",
    "r1 = plt.Rectangle((-0.5,-0.5),1,1,color='r', fill=False)\n",
    "c1 = plt.Circle((0,0), 0.5, color='b', fill=False)\n",
    "fig, ax = plt.subplots(figsize=(9,9)) \n",
    "ax.add_artist(r1)\n",
    "ax.add_artist(c1)\n",
    "plt.xlim(-0.6,0.6)\n",
    "plt.ylim(-0.6,0.6)\n",
    "plt.scatter(x,y,s=100,marker='x')\n",
    "plt.show()\n"
   ]
  },
  {
   "cell_type": "markdown",
   "metadata": {
    "colab_type": "text",
    "id": "HUyV7SaiINQ_"
   },
   "source": [
    "\n",
    "\n",
    "---\n",
    "\n",
    "\n",
    "## Menghitung Luas Lingkaran dengan estimasi MC\n",
    "![alt text](https://github.com/sykrn/py-dts/blob/master/asets/persegilink.png?raw=true)\n",
    "\n",
    "### Kita bisa mengestimasi luas lingkaran dengan MC sebagai berikut.\n",
    "1. Buatlah titik-titik random sebanyak mungkin di dalam sebuah persegi yang bersinggungan dengan lingkaran yang berada di dalamnya yang akan kita hitung luasannya seperti gambar di atas.\n",
    "2. Hitunglah jumlah titik-titik yang berada di dalam lingkaran tersebut.\n",
    "3. Estimasi:\n",
    "\n",
    "$$\\frac{n_{titik-dalam-lingkaran}}{n_{total-titik}}=\\frac{Luas Lingkaran}{Luas Persegi}$$\n",
    "maka,\n",
    "$$Luas Lingkaran=\\frac{n_{titik-dalam-lingkaran}}{n_{total-titik}}\\times Luas Persegi$$\n",
    "di mana,\n",
    "$$Luas Persegi = sisi \\times sisi$$\n",
    "mudah untuk dihitung."
   ]
  },
  {
   "cell_type": "markdown",
   "metadata": {
    "colab_type": "text",
    "id": "LFdEq_eENAXi"
   },
   "source": [
    "\n",
    "\n",
    "---\n",
    "\n",
    "\n",
    "## 3. Buatlah fungsi `MCCircleArea` dengan positional argument `r` dan keyword argument dengan default `n=100` dan `center=(0,0)`, untuk menghitung luas lingkaran dengan jari-jari r dengan mengestimasi dari `n` titik random. Keluaran fungsi merupakan suatu nilai yang menunjukkan estimasi luas lingkaran tersebut.\n",
    "\n",
    "**hint:**\n",
    "1. gunakan fungsi yang sudah dibuat di atas `isPointInCircle` dan `generateRandomSquarePoints`.\n",
    "2. perhatikan gambar lingkaran dan persegi di atas, jari-jari $r$ lingkaran sama dengan setengah dari panjang sisi persegi.\n",
    "3. lingkaran dan persegi memiliki pusat yang sama.\n",
    "\n",
    "\n",
    "\n",
    "\n"
   ]
  },
  {
   "cell_type": "code",
   "execution_count": 11,
   "metadata": {
    "colab": {},
    "colab_type": "code",
    "id": "BQXU83rDha_0"
   },
   "outputs": [],
   "source": [
    "#Graded\n",
    "def MCCircleArea(r,n=100,center=(0,0)):\n",
    "    # MULAI KODEMU DI SINI\n",
    "    titik = generateRandomSquarePoints(n,r*2,center)\n",
    "    titik_dlink = [j for j in range(len(titik)) if isPointInCircle(titik[j][0],titik[j][1],r,center)]\n",
    "    titik_dlink = len(titik_dlink)\n",
    "    luas_link = titik_dlink/n * ((r*2)**2)\n",
    "    return luas_link"
   ]
  },
  {
   "cell_type": "code",
   "execution_count": 12,
   "metadata": {
    "colab": {},
    "colab_type": "code",
    "id": "jl_xNR3OkIP2"
   },
   "outputs": [
    {
     "name": "stdout",
     "output_type": "stream",
     "text": [
      "3.28 3.2\n"
     ]
    }
   ],
   "source": [
    "#CEK OUTPUT KODE ANDA\n",
    "\n",
    "random.seed(0)\n",
    "print(MCCircleArea(1,100),MCCircleArea(1,10,center=(10,10)))"
   ]
  },
  {
   "cell_type": "markdown",
   "metadata": {
    "colab_type": "text",
    "id": "eHwlg-ZIQg4I"
   },
   "source": [
    "### Expected output:\n",
    "```\n",
    "3.28 3.2\n",
    " ```"
   ]
  },
  {
   "cell_type": "markdown",
   "metadata": {
    "colab_type": "text",
    "id": "7q-ib2r-SW5h"
   },
   "source": [
    "\n",
    "\n",
    "---\n",
    "## Estimasi $\\pi$\n",
    "\n",
    "### Luas lingkaran\n",
    "$$Luas = \\pi r^2$$\n",
    "\n",
    "sehingga untuk mengestimasi nilai $\\pi$ sama dengan mengestimasi luas lingkaran dengan jari-jari $r=1$.\n",
    "\n",
    "### Law of large numbers (LLN)\n",
    "merupakan hukum statistik dimana kita bisa menghitung nilai rata-rata dari suatu distribusi atau bahkan standar deviasinya dengan menggunakan banyak sampel. LLN umum digunakan di dalam metode MC.\n",
    "\n",
    "Penjelasan mudahnya: Semakin banyak sampel semakin akurat untuk menghitung rata-rata atau nilai mean-nya. \n",
    "\n",
    "### Estimasi $\\pi$ lebih akurat dengan LLN\n",
    "1. Estimasi luas lingkaran dengan jari-jari satu dengan menggunakan sejumlah titik-titik random.\n",
    "2. lakukan sebanyak mungkin langkah 1.\n",
    "3. ambil nilai rata-ratanya, yaitu $\\mu = \\sum x/n$, yang merupakan estimasi akhir dari metode MC.\n",
    "\n",
    "\n"
   ]
  },
  {
   "cell_type": "markdown",
   "metadata": {
    "colab_type": "text",
    "id": "zImtpxHuUUoQ"
   },
   "source": [
    "## 4. Buatlah fungsi `LLNPiMC` untuk mengestimasi nilai `pi` dengan positional argumen `nsim` dan `nsample`. `nsample` merupakan jumlah sample titik-titik random untuk menghitung luas lingkaran berjari-jari 1 (maka Luas = $\\pi$) dan `nsim` merupakan jumlah simulasi untuk menghitung nilai rata-rata atau mean dari estimasi nilai $\\pi$. Keluaran fungsi merupakan nilai mean dari simulasi tersebut (estimasi nilai $\\pi$)."
   ]
  },
  {
   "cell_type": "markdown",
   "metadata": {},
   "source": [
    "# langkah2:\n",
    "1. membuat list yang berisi MCCircleArea(1, n=nsample) for c in range(nsim) loop c pada sebanyak nsim\n",
    "2. buat rata2 dengan sum(langkah 1) dibagi nsim\n",
    "3. lalu return mean"
   ]
  },
  {
   "cell_type": "code",
   "execution_count": 13,
   "metadata": {
    "colab": {},
    "colab_type": "code",
    "id": "MH_JdQvTkKb_"
   },
   "outputs": [],
   "source": [
    "#Graded\n",
    "def LLNPiMC(nsim,nsample):\n",
    "    srch_pi = (MCCircleArea(1,nsample) for i in range(nsim))\n",
    "    pi = sum(srch_pi)/nsim\n",
    "    return pi"
   ]
  },
  {
   "cell_type": "code",
   "execution_count": 14,
   "metadata": {
    "colab": {},
    "colab_type": "code",
    "id": "MP3BGDqaXiI2"
   },
   "outputs": [
    {
     "name": "stdout",
     "output_type": "stream",
     "text": [
      "est_pi: 3.1416055999999823\n",
      "act_pi: 3.141592653589793\n"
     ]
    }
   ],
   "source": [
    "#CEK OUTPUT KODE ANDA\n",
    "\n",
    "import math\n",
    "\n",
    "random.seed(0)\n",
    "estpi = LLNPiMC(10000,500)\n",
    "\n",
    "print('est_pi:',estpi)\n",
    "print('act_pi:',math.pi)"
   ]
  },
  {
   "cell_type": "markdown",
   "metadata": {
    "colab_type": "text",
    "id": "UKExZc1EXsBr"
   },
   "source": [
    "### Expected output:\n",
    "```\n",
    "est_pi: 3.1416055999999823\n",
    "act_pi: 3.141592653589793\n",
    " ```"
   ]
  },
  {
   "cell_type": "markdown",
   "metadata": {
    "colab_type": "text",
    "id": "92LZvAY2Yhhu"
   },
   "source": [
    "## Menghitung error relatif\n",
    "\n",
    "$$E = \\|\\frac{estimasi-aktual}{aktual}\\|\\times 100$$\n",
    "\n",
    "$\\|\\dots\\|$ merupakan nilai absolut atau mutlak (selalu positif)."
   ]
  },
  {
   "cell_type": "markdown",
   "metadata": {
    "colab_type": "text",
    "id": "coUe9JSm-6Lf"
   },
   "source": [
    "## 5. Buatlah fungsi `relativeError`, dengan argument `act` yang merupakan nilai aktual, dan `est` yang merupakan nilai estimasi."
   ]
  },
  {
   "cell_type": "markdown",
   "metadata": {},
   "source": [
    "# langkah2:\n",
    "1. kita buat pengurangan est-act\n",
    "2. langkah 1 dibagi act yang dikalikan 100\n",
    "3. langkah 3 kita absolutkan dengan method abs()"
   ]
  },
  {
   "cell_type": "code",
   "execution_count": 15,
   "metadata": {
    "colab": {},
    "colab_type": "code",
    "id": "fh2-4YkAeti-"
   },
   "outputs": [],
   "source": [
    "def relativeError(act,est):\n",
    "    E = abs((est-act)/act)*100\n",
    "    return E"
   ]
  },
  {
   "cell_type": "code",
   "execution_count": 51,
   "metadata": {
    "colab": {},
    "colab_type": "code",
    "id": "797vk8LdlYUq"
   },
   "outputs": [
    {
     "name": "stdout",
     "output_type": "stream",
     "text": [
      "error relatif: 0.0004120970353822341 %\n"
     ]
    }
   ],
   "source": [
    "#CEK OUTPUT KODE ANDA\n",
    "print('error relatif:',relativeError(math.pi,estpi),'%')"
   ]
  },
  {
   "cell_type": "markdown",
   "metadata": {
    "colab_type": "text",
    "id": "32v0QsumRcHH"
   },
   "source": [
    "### Expected output:\n",
    "```\n",
    "error relatif: 0.0004120970353822341 %\n",
    " ```"
   ]
  },
  {
   "cell_type": "markdown",
   "metadata": {
    "colab_type": "text",
    "id": "BYqKtNpcBS5K"
   },
   "source": [
    "# Cara Submit\n",
    "0. Isikan variable priority dengan nilai yang lebih besar dari submisi sebelumnya untuk revisi.\n",
    "1. Tuliskan email akun netacad anda di variable email (tentunya dengan tanda kutip) \n",
    "2. Copy-paste **SEMUA** cell yang ada komentar `#Graded` ke cell code di bawah ini.\n",
    "3. Simpan kode tersebut sebagai p2.py\n",
    "4. Submit file ke google form berikut: https://forms.gle/oVt17KbpFwQvTmG2A\n",
    "5. Pengisian form membutuhkan anda login ke akun google anda.\n",
    "\n"
   ]
  },
  {
   "cell_type": "code",
   "execution_count": null,
   "metadata": {
    "colab": {},
    "colab_type": "code",
    "id": "1DRcA1UmBXLT"
   },
   "outputs": [],
   "source": [
    "# nama file p2.py \n",
    "# Isikan email anda dan copy semua cell code yang dengan komentar #Graded\n",
    "\n",
    "# untuk revisi dan resubmisi sebelum deadline\n",
    "# silakan di resubmit dengan nilai variable priority yang lebih besar dari\n",
    "# nilai priority submisi sebelumnya\n",
    "# JIKA TIDAK ADA VARIABLE priority DIANGGAP priority=0\n",
    "priority = 0\n",
    "\n",
    "#netacad email cth: 'abcd@gmail.com'\n",
    "email=''\n",
    " \n",
    "# copy-paste semua #Graded cells YANG SUDAH ANDA KERJAKAN di bawah ini"
   ]
  }
 ],
 "metadata": {
  "colab": {
   "collapsed_sections": [],
   "name": "Project 2 -  Monte carlo simulation.ipynb",
   "provenance": []
  },
  "kernelspec": {
   "display_name": "Python 3",
   "language": "python",
   "name": "python3"
  },
  "language_info": {
   "codemirror_mode": {
    "name": "ipython",
    "version": 3
   },
   "file_extension": ".py",
   "mimetype": "text/x-python",
   "name": "python",
   "nbconvert_exporter": "python",
   "pygments_lexer": "ipython3",
   "version": "3.7.7"
  }
 },
 "nbformat": 4,
 "nbformat_minor": 4
}
